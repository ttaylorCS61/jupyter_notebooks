{
 "cells": [
  {
   "cell_type": "code",
   "execution_count": 21,
   "metadata": {},
   "outputs": [
    {
     "data": {
      "application/vnd.jupyter.widget-view+json": {
       "model_id": "236f334dcab04eeaa352ae6faae6be83"
      }
     },
     "metadata": {},
     "output_type": "display_data"
    },
    {
     "data": {
      "text/plain": [
       "<function __main__.func(date)>"
      ]
     },
     "execution_count": 21,
     "metadata": {},
     "output_type": "execute_result"
    }
   ],
   "source": [
    "import folium\n",
    "from folium import plugins\n",
    "import pandas as pd\n",
    "import numpy as np\n",
    "from ipywidgets import interact\n",
    "import ipywidgets as widgets\n",
    "import datetime\n",
    "\n",
    "data = pd.read_csv(\"Documents/fires/cali_2018_fires_output.csv\", index_col=\"date\", parse_dates=True)\n",
    "data.sort_index(inplace=True)\n",
    "dates = data.index\n",
    "\n",
    "def func(date):\n",
    "    m = folium.Map([38,-120],zoom_start=6)\n",
    "    latlongs = data.loc[date,[\"lat\",\"lon\"]]\n",
    "    stationArr = latlongs.to_numpy()\n",
    "    m.add_child(plugins.HeatMap(stationArr, radius=15))\n",
    "    return m \n",
    "\n",
    "interact(func,date=widgets.SelectionSlider(options=dates.to_list()))"
   ]
  }
 ],
 "metadata": {
  "kernelspec": {
   "display_name": "Python 3",
   "language": "python",
   "name": "python3"
  },
  "language_info": {
   "codemirror_mode": {
    "name": "ipython",
    "version": 3
   },
   "file_extension": ".py",
   "mimetype": "text/x-python",
   "name": "python",
   "nbconvert_exporter": "python",
   "pygments_lexer": "ipython3",
   "version": "3.7.6"
  }
 },
 "nbformat": 4,
 "nbformat_minor": 4
}
